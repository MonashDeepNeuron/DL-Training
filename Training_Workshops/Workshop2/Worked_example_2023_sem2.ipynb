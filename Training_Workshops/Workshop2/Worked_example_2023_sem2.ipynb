{
  "nbformat": 4,
  "nbformat_minor": 0,
  "metadata": {
    "colab": {
      "provenance": [],
      "collapsed_sections": [
        "DRg9lPG_p8eJ",
        "rDW-ZDVBD22K",
        "V8wBUUeL_-qK",
        "4hofo74wSICk",
        "fkdTxBExWWel",
        "IwPrfNv1Xmel",
        "z2ICnZT2y600",
        "1J2engqjfpgT",
        "VsCrwSH7iUtM",
        "hUExLGhizr7A",
        "HYuAkKIc5nL2",
        "YDeGfm2QF6Qp",
        "_3OuYgqZaBir"
      ]
    },
    "kernelspec": {
      "name": "python3",
      "display_name": "Python 3"
    },
    "language_info": {
      "name": "python"
    },
    "widgets": {
      "application/vnd.jupyter.widget-state+json": {
        "fbbe60336f094584a0d2f71d1fc98e76": {
          "model_module": "@jupyter-widgets/controls",
          "model_name": "HBoxModel",
          "model_module_version": "1.5.0",
          "state": {
            "_dom_classes": [],
            "_model_module": "@jupyter-widgets/controls",
            "_model_module_version": "1.5.0",
            "_model_name": "HBoxModel",
            "_view_count": null,
            "_view_module": "@jupyter-widgets/controls",
            "_view_module_version": "1.5.0",
            "_view_name": "HBoxView",
            "box_style": "",
            "children": [
              "IPY_MODEL_751da4e166de46f7828db41c0bb5a561",
              "IPY_MODEL_d9ba3f2b39f44738b7f45d497b9ad224",
              "IPY_MODEL_04a8e5988fea47e1afd7d8b7d1c33e88"
            ],
            "layout": "IPY_MODEL_42baff3d80574d6aba9661f88f7db593"
          }
        },
        "751da4e166de46f7828db41c0bb5a561": {
          "model_module": "@jupyter-widgets/controls",
          "model_name": "HTMLModel",
          "model_module_version": "1.5.0",
          "state": {
            "_dom_classes": [],
            "_model_module": "@jupyter-widgets/controls",
            "_model_module_version": "1.5.0",
            "_model_name": "HTMLModel",
            "_view_count": null,
            "_view_module": "@jupyter-widgets/controls",
            "_view_module_version": "1.5.0",
            "_view_name": "HTMLView",
            "description": "",
            "description_tooltip": null,
            "layout": "IPY_MODEL_b19cc4d2d38b4827b3fb5c3d2a902ad8",
            "placeholder": "​",
            "style": "IPY_MODEL_33e0cb458bde477586abc2dcb591aac9",
            "value": "100%"
          }
        },
        "d9ba3f2b39f44738b7f45d497b9ad224": {
          "model_module": "@jupyter-widgets/controls",
          "model_name": "FloatProgressModel",
          "model_module_version": "1.5.0",
          "state": {
            "_dom_classes": [],
            "_model_module": "@jupyter-widgets/controls",
            "_model_module_version": "1.5.0",
            "_model_name": "FloatProgressModel",
            "_view_count": null,
            "_view_module": "@jupyter-widgets/controls",
            "_view_module_version": "1.5.0",
            "_view_name": "ProgressView",
            "bar_style": "success",
            "description": "",
            "description_tooltip": null,
            "layout": "IPY_MODEL_ed139330696a43b1a618a6dbc43aca9e",
            "max": 1,
            "min": 0,
            "orientation": "horizontal",
            "style": "IPY_MODEL_28727dfc21ed40d8b77a3bebdbb8e1d8",
            "value": 1
          }
        },
        "04a8e5988fea47e1afd7d8b7d1c33e88": {
          "model_module": "@jupyter-widgets/controls",
          "model_name": "HTMLModel",
          "model_module_version": "1.5.0",
          "state": {
            "_dom_classes": [],
            "_model_module": "@jupyter-widgets/controls",
            "_model_module_version": "1.5.0",
            "_model_name": "HTMLModel",
            "_view_count": null,
            "_view_module": "@jupyter-widgets/controls",
            "_view_module_version": "1.5.0",
            "_view_name": "HTMLView",
            "description": "",
            "description_tooltip": null,
            "layout": "IPY_MODEL_ea5be14bb4414413a070efe691a2be3d",
            "placeholder": "​",
            "style": "IPY_MODEL_321e8cb3903a4d9cbc3d622e84878797",
            "value": " 1/1 [00:01&lt;00:00,  1.40s/it]"
          }
        },
        "42baff3d80574d6aba9661f88f7db593": {
          "model_module": "@jupyter-widgets/base",
          "model_name": "LayoutModel",
          "model_module_version": "1.2.0",
          "state": {
            "_model_module": "@jupyter-widgets/base",
            "_model_module_version": "1.2.0",
            "_model_name": "LayoutModel",
            "_view_count": null,
            "_view_module": "@jupyter-widgets/base",
            "_view_module_version": "1.2.0",
            "_view_name": "LayoutView",
            "align_content": null,
            "align_items": null,
            "align_self": null,
            "border": null,
            "bottom": null,
            "display": null,
            "flex": null,
            "flex_flow": null,
            "grid_area": null,
            "grid_auto_columns": null,
            "grid_auto_flow": null,
            "grid_auto_rows": null,
            "grid_column": null,
            "grid_gap": null,
            "grid_row": null,
            "grid_template_areas": null,
            "grid_template_columns": null,
            "grid_template_rows": null,
            "height": null,
            "justify_content": null,
            "justify_items": null,
            "left": null,
            "margin": null,
            "max_height": null,
            "max_width": null,
            "min_height": null,
            "min_width": null,
            "object_fit": null,
            "object_position": null,
            "order": null,
            "overflow": null,
            "overflow_x": null,
            "overflow_y": null,
            "padding": null,
            "right": null,
            "top": null,
            "visibility": null,
            "width": null
          }
        },
        "b19cc4d2d38b4827b3fb5c3d2a902ad8": {
          "model_module": "@jupyter-widgets/base",
          "model_name": "LayoutModel",
          "model_module_version": "1.2.0",
          "state": {
            "_model_module": "@jupyter-widgets/base",
            "_model_module_version": "1.2.0",
            "_model_name": "LayoutModel",
            "_view_count": null,
            "_view_module": "@jupyter-widgets/base",
            "_view_module_version": "1.2.0",
            "_view_name": "LayoutView",
            "align_content": null,
            "align_items": null,
            "align_self": null,
            "border": null,
            "bottom": null,
            "display": null,
            "flex": null,
            "flex_flow": null,
            "grid_area": null,
            "grid_auto_columns": null,
            "grid_auto_flow": null,
            "grid_auto_rows": null,
            "grid_column": null,
            "grid_gap": null,
            "grid_row": null,
            "grid_template_areas": null,
            "grid_template_columns": null,
            "grid_template_rows": null,
            "height": null,
            "justify_content": null,
            "justify_items": null,
            "left": null,
            "margin": null,
            "max_height": null,
            "max_width": null,
            "min_height": null,
            "min_width": null,
            "object_fit": null,
            "object_position": null,
            "order": null,
            "overflow": null,
            "overflow_x": null,
            "overflow_y": null,
            "padding": null,
            "right": null,
            "top": null,
            "visibility": null,
            "width": null
          }
        },
        "33e0cb458bde477586abc2dcb591aac9": {
          "model_module": "@jupyter-widgets/controls",
          "model_name": "DescriptionStyleModel",
          "model_module_version": "1.5.0",
          "state": {
            "_model_module": "@jupyter-widgets/controls",
            "_model_module_version": "1.5.0",
            "_model_name": "DescriptionStyleModel",
            "_view_count": null,
            "_view_module": "@jupyter-widgets/base",
            "_view_module_version": "1.2.0",
            "_view_name": "StyleView",
            "description_width": ""
          }
        },
        "ed139330696a43b1a618a6dbc43aca9e": {
          "model_module": "@jupyter-widgets/base",
          "model_name": "LayoutModel",
          "model_module_version": "1.2.0",
          "state": {
            "_model_module": "@jupyter-widgets/base",
            "_model_module_version": "1.2.0",
            "_model_name": "LayoutModel",
            "_view_count": null,
            "_view_module": "@jupyter-widgets/base",
            "_view_module_version": "1.2.0",
            "_view_name": "LayoutView",
            "align_content": null,
            "align_items": null,
            "align_self": null,
            "border": null,
            "bottom": null,
            "display": null,
            "flex": null,
            "flex_flow": null,
            "grid_area": null,
            "grid_auto_columns": null,
            "grid_auto_flow": null,
            "grid_auto_rows": null,
            "grid_column": null,
            "grid_gap": null,
            "grid_row": null,
            "grid_template_areas": null,
            "grid_template_columns": null,
            "grid_template_rows": null,
            "height": null,
            "justify_content": null,
            "justify_items": null,
            "left": null,
            "margin": null,
            "max_height": null,
            "max_width": null,
            "min_height": null,
            "min_width": null,
            "object_fit": null,
            "object_position": null,
            "order": null,
            "overflow": null,
            "overflow_x": null,
            "overflow_y": null,
            "padding": null,
            "right": null,
            "top": null,
            "visibility": null,
            "width": null
          }
        },
        "28727dfc21ed40d8b77a3bebdbb8e1d8": {
          "model_module": "@jupyter-widgets/controls",
          "model_name": "ProgressStyleModel",
          "model_module_version": "1.5.0",
          "state": {
            "_model_module": "@jupyter-widgets/controls",
            "_model_module_version": "1.5.0",
            "_model_name": "ProgressStyleModel",
            "_view_count": null,
            "_view_module": "@jupyter-widgets/base",
            "_view_module_version": "1.2.0",
            "_view_name": "StyleView",
            "bar_color": null,
            "description_width": ""
          }
        },
        "ea5be14bb4414413a070efe691a2be3d": {
          "model_module": "@jupyter-widgets/base",
          "model_name": "LayoutModel",
          "model_module_version": "1.2.0",
          "state": {
            "_model_module": "@jupyter-widgets/base",
            "_model_module_version": "1.2.0",
            "_model_name": "LayoutModel",
            "_view_count": null,
            "_view_module": "@jupyter-widgets/base",
            "_view_module_version": "1.2.0",
            "_view_name": "LayoutView",
            "align_content": null,
            "align_items": null,
            "align_self": null,
            "border": null,
            "bottom": null,
            "display": null,
            "flex": null,
            "flex_flow": null,
            "grid_area": null,
            "grid_auto_columns": null,
            "grid_auto_flow": null,
            "grid_auto_rows": null,
            "grid_column": null,
            "grid_gap": null,
            "grid_row": null,
            "grid_template_areas": null,
            "grid_template_columns": null,
            "grid_template_rows": null,
            "height": null,
            "justify_content": null,
            "justify_items": null,
            "left": null,
            "margin": null,
            "max_height": null,
            "max_width": null,
            "min_height": null,
            "min_width": null,
            "object_fit": null,
            "object_position": null,
            "order": null,
            "overflow": null,
            "overflow_x": null,
            "overflow_y": null,
            "padding": null,
            "right": null,
            "top": null,
            "visibility": null,
            "width": null
          }
        },
        "321e8cb3903a4d9cbc3d622e84878797": {
          "model_module": "@jupyter-widgets/controls",
          "model_name": "DescriptionStyleModel",
          "model_module_version": "1.5.0",
          "state": {
            "_model_module": "@jupyter-widgets/controls",
            "_model_module_version": "1.5.0",
            "_model_name": "DescriptionStyleModel",
            "_view_count": null,
            "_view_module": "@jupyter-widgets/base",
            "_view_module_version": "1.2.0",
            "_view_name": "StyleView",
            "description_width": ""
          }
        }
      }
    }
  },
  "cells": [
    {
      "cell_type": "markdown",
      "source": [
        "#Introduction to PyTorch\n",
        "\n",
        "In order to understand the basics of PyTorch and some of the concepts we have covered in the previous workshop we will, work through a linear regression problem with heart disease. This is in order to predict the likelihood of heart disease based on how many hours of bike riding a week and smokes a week.\n",
        "\n",
        " ***Training Data:***\n",
        "\n",
        "\n",
        "<img src = 'https://imgur.com/eGaxYym.png' width = 400px/>\n",
        "\n",
        "\n",
        "\n",
        "```\n",
        "heart_disease = w1 * biking + w2 * smoking + b1\n",
        "```"
      ],
      "metadata": {
        "id": "Q8FArjjQiGep"
      }
    },
    {
      "cell_type": "markdown",
      "source": [
        "# What is our aim?\n",
        "\n",
        "Our aim is to find values for these weights w1 and w2 such that we can predict the persons likelihood of heart disease given the number of hours ridden and smoked.\n",
        "\n",
        "If we think about this problem having only one factor altering the likelihood of heart disease say, bike riding, and we had several tuples of data (hrs_ridden,likelihood). If we were approximating a line to these points we would want to adjust the gradient of\n",
        "\n",
        "*y= mx + b*\n",
        "\n",
        "such that it nicely reflects the trend of the plotted data.\n",
        "\n",
        "\n",
        "<img src = 'https://imgur.com/R0T8B4M.png' width = 600px/>\n",
        "\n",
        "We are essentially doing the same thing when we're training our model, we will adjust the weights w1, w2 and b1 fractionally each several times untill our model makes better predictions"
      ],
      "metadata": {
        "id": "BTMxrLXadtmH"
      }
    },
    {
      "cell_type": "markdown",
      "source": [
        "# Data for training"
      ],
      "metadata": {
        "id": "DRg9lPG_p8eJ"
      }
    },
    {
      "cell_type": "code",
      "source": [
        "import numpy as np\n",
        "import torch"
      ],
      "metadata": {
        "id": "3GLZ9PATnG6M"
      },
      "execution_count": null,
      "outputs": []
    },
    {
      "cell_type": "markdown",
      "source": [
        "We will use numpy to create numpy arrays which we will convert later into tensors. As often you will be dealing with data in formats such as CSV, where you will be using numpy or pandas to process it.\n",
        "\n",
        "(A tensor is a number, vector, matrix, basically an n-dimensional array)\n",
        "\n",
        "** They can hold one single type ie. All floating point numbers or all integers\n",
        "\n",
        "```\n",
        "# To create a tensor in PyTorch\n",
        "  tensor = torch.tensor([1.,2,3,4,5])\n",
        "\n",
        "  # As element 0, 1. is a floating point number the rest of the number will become floating point numbers!!\n",
        "```\n",
        "\n",
        "\n",
        "\n",
        "\n",
        "\n"
      ],
      "metadata": {
        "id": "CaVUVfmZqHnj"
      }
    },
    {
      "cell_type": "markdown",
      "source": [
        "##Importing Data"
      ],
      "metadata": {
        "id": "1Sw31abF4399"
      }
    },
    {
      "cell_type": "code",
      "source": [
        "from numpy import genfromtxt\n",
        "from google.colab import drive\n",
        "import os\n",
        "try:\n",
        "  drive.mount('/content/drive')\n",
        "  os.chdir('/content/drive/Shareddrives/DeepNeuron Team/Training/Deep Learning/2023')\n",
        "  heart_data = genfromtxt('heart.data.csv', delimiter=',',skip_header = 1)\n",
        "\n",
        "except:\n",
        "  heart_data = genfromtxt('/Data/heart.data.csv', delimiter=',',skip_header = 1)\n",
        "\n"
      ],
      "metadata": {
        "id": "iZvhrjsD1xSw",
        "colab": {
          "base_uri": "https://localhost:8080/"
        },
        "outputId": "f8df2555-6b83-408b-b9d7-0c3f35b4c85f"
      },
      "execution_count": null,
      "outputs": [
        {
          "output_type": "stream",
          "name": "stdout",
          "text": [
            "Mounted at /content/drive\n"
          ]
        }
      ]
    },
    {
      "cell_type": "markdown",
      "source": [
        "## What do we need to do?\n",
        "\n",
        "We can represent the training data using two matrices: inputs and targets"
      ],
      "metadata": {
        "id": "aYqhCRCn4sPA"
      }
    },
    {
      "cell_type": "code",
      "source": [
        "# Creating Inputs Matrix (biking,smoking)\n",
        "inputs = heart_data[?] #which column(s) you want to index?\n",
        "print(inputs.dtype)\n",
        "\n",
        "#can you change the input data type to float32? check the numpy astype function\n",
        "inputs = ?"
      ],
      "metadata": {
        "id": "T0qS8fei5Nab",
        "colab": {
          "base_uri": "https://localhost:8080/"
        },
        "outputId": "b39d9ce6-55b1-42f4-aae8-f4611d8654c7"
      },
      "execution_count": null,
      "outputs": [
        {
          "output_type": "stream",
          "name": "stdout",
          "text": [
            "float64\n"
          ]
        }
      ]
    },
    {
      "cell_type": "markdown",
      "source": [
        "*The default element datatype for torch.tensor() is a float32 and the deault for np.array() is a float64"
      ],
      "metadata": {
        "id": "0T-1lFap_dmx"
      }
    },
    {
      "cell_type": "code",
      "source": [
        "# Creating Targets Matrix (heart disease)\n",
        "targets = heart_data[?] #which column you want to index?\n",
        "targets = targets.astype(?)"
      ],
      "metadata": {
        "id": "8zE-hve05qN0"
      },
      "execution_count": null,
      "outputs": []
    },
    {
      "cell_type": "markdown",
      "source": [
        "We will convert these NumPy arrays to tensors such that we can process them with PyTorch"
      ],
      "metadata": {
        "id": "-uwx5YX06OY3"
      }
    },
    {
      "cell_type": "code",
      "source": [
        "# Convert inputs and targets to tensors\n",
        "#check the torch documentation to change to tensory from numpy\n",
        "inputs = ?\n",
        "targets = ?\n",
        "print(inputs[0:10])\n",
        "print(targets[0:10])"
      ],
      "metadata": {
        "id": "1f-KM9vb6cB6",
        "colab": {
          "base_uri": "https://localhost:8080/"
        },
        "outputId": "58bbdfed-263e-499d-a88b-30897fd87773"
      },
      "execution_count": null,
      "outputs": [
        {
          "output_type": "stream",
          "name": "stdout",
          "text": [
            "tensor([[30.8012, 10.8966],\n",
            "        [65.1292,  2.2196],\n",
            "        [ 1.9597, 17.5883],\n",
            "        [44.8002,  2.8026],\n",
            "        [69.4285, 15.9745],\n",
            "        [54.4036, 29.3332],\n",
            "        [49.0562,  9.0608],\n",
            "        [ 4.7846, 12.8350],\n",
            "        [65.7308, 11.9913],\n",
            "        [35.2575, 23.2777]])\n",
            "tensor([[11.7694],\n",
            "        [ 2.8541],\n",
            "        [17.1778],\n",
            "        [ 6.8166],\n",
            "        [ 4.0622],\n",
            "        [ 9.5500],\n",
            "        [ 7.6245],\n",
            "        [15.8547],\n",
            "        [ 3.0675],\n",
            "        [12.0985]])\n"
          ]
        }
      ]
    },
    {
      "cell_type": "markdown",
      "source": [
        "# Creating Our Model\n",
        "\n",
        "PyTorch has several in-built functions to help us built in functions to help us create and train models, with fewer lines of code. However, for the purposes of understanding we will not be using them till later."
      ],
      "metadata": {
        "id": "rDW-ZDVBD22K"
      }
    },
    {
      "cell_type": "markdown",
      "source": [
        "We will just initialise the weights and biases as random numbers, and will learn the weights and biases. This is because gradient descent is a heuristic method, meaning it does not really matter where we start."
      ],
      "metadata": {
        "id": "uvzXjza25v4p"
      }
    },
    {
      "cell_type": "code",
      "source": [
        "# Weights and biases\n",
        "w = torch.randn(1, 2, requires_grad=True)\n",
        "b = torch.randn(1, requires_grad=True)\n",
        "print(w)\n",
        "print(b)"
      ],
      "metadata": {
        "id": "XsWSiR_25vOA",
        "colab": {
          "base_uri": "https://localhost:8080/"
        },
        "outputId": "9beb46ed-b322-4953-cdb4-b0c41be8a038"
      },
      "execution_count": null,
      "outputs": [
        {
          "output_type": "stream",
          "name": "stdout",
          "text": [
            "tensor([[ 1.0473, -0.3632]], requires_grad=True)\n",
            "tensor([0.1924], requires_grad=True)\n"
          ]
        }
      ]
    },
    {
      "cell_type": "code",
      "source": [
        "def model(x):\n",
        "    return (? @ ?.t() + ?) #how do you predict a model? hint:what is the mathematical expression of a linear function"
      ],
      "metadata": {
        "id": "I8xaB5rgD2rM"
      },
      "execution_count": null,
      "outputs": []
    },
    {
      "cell_type": "code",
      "source": [
        " # Generate predictions\n",
        "preds = ? #how do you predict, what do you pass in? and what function do you use? #hint it's the one in the prev cell\n",
        "print(preds[0:10])"
      ],
      "metadata": {
        "id": "RSHXpSgk6Zdt",
        "colab": {
          "base_uri": "https://localhost:8080/"
        },
        "outputId": "4f82627d-92e7-4530-e4cd-0d2ca1c8faf1"
      },
      "execution_count": null,
      "outputs": [
        {
          "output_type": "stream",
          "name": "stdout",
          "text": [
            "tensor([[28.4940],\n",
            "        [67.5988],\n",
            "        [-4.1435],\n",
            "        [46.0956],\n",
            "        [67.1055],\n",
            "        [46.5173],\n",
            "        [48.2799],\n",
            "        [ 0.5416],\n",
            "        [64.6796],\n",
            "        [28.6641]], grad_fn=<SliceBackward0>)\n"
          ]
        }
      ]
    },
    {
      "cell_type": "code",
      "source": [
        "print(targets[0:10])"
      ],
      "metadata": {
        "id": "WMQ6gpi8910o",
        "colab": {
          "base_uri": "https://localhost:8080/"
        },
        "outputId": "8893fae8-d77b-4428-cb8d-89f669d4f8f5"
      },
      "execution_count": null,
      "outputs": [
        {
          "output_type": "stream",
          "name": "stdout",
          "text": [
            "tensor([[11.7694],\n",
            "        [ 2.8541],\n",
            "        [17.1778],\n",
            "        [ 6.8166],\n",
            "        [ 4.0622],\n",
            "        [ 9.5500],\n",
            "        [ 7.6245],\n",
            "        [15.8547],\n",
            "        [ 3.0675],\n",
            "        [12.0985]])\n"
          ]
        }
      ]
    },
    {
      "cell_type": "markdown",
      "source": [
        "There is obviously a large descrepency between the current predicitons and the actual targets so we need a way of evaluating how good the model is actually performing, which is where the loss function comes into play."
      ],
      "metadata": {
        "id": "K0yKGNO63wZN"
      }
    },
    {
      "cell_type": "markdown",
      "source": [
        "#Loss Function\n",
        "\n",
        "The loss function measures how well our model is performing. This is calculated via computing the distance between our output (preds) and our expected output (targets). We will be using the Mean Squared Error loss function as this is a regression problem. MSE tell us how close a regression line is close to a set of data points.\n",
        "\n",
        "[Other Loss Functions](https://medium.com/udacity-pytorch-challengers/a-brief-overview-of-loss-functions-in-pytorch-c0ddb78068f7)\n"
      ],
      "metadata": {
        "id": "V8wBUUeL_-qK"
      }
    },
    {
      "cell_type": "code",
      "source": [
        "def MSE(predictions,targets):\n",
        "# what's an MSE?\n",
        "# Calculate the distance between output and expected output (preds and targets).\n",
        "  difference = ?\n",
        "# Square to get rid off negative values.\n",
        "  diff_squared = ?\n",
        "# Calculate the average of the elements\n",
        "  average = ?\n",
        "# This average is the (MSE).\n",
        "\n",
        "  return average"
      ],
      "metadata": {
        "id": "D3SwMxKVJohV"
      },
      "execution_count": null,
      "outputs": []
    },
    {
      "cell_type": "code",
      "source": [
        "loss = MSE(preds,targets)\n",
        "print(loss)"
      ],
      "metadata": {
        "id": "stPnCFL_R5v1",
        "colab": {
          "base_uri": "https://localhost:8080/"
        },
        "outputId": "764b8e9d-2bbf-4756-ef98-70ddb27dc63a"
      },
      "execution_count": null,
      "outputs": [
        {
          "output_type": "stream",
          "name": "stdout",
          "text": [
            "tensor(1309.0477, grad_fn=<DivBackward0>)\n"
          ]
        }
      ]
    },
    {
      "cell_type": "markdown",
      "source": [
        "###What does this actually mean?\n",
        "\n",
        "<img src = 'https://imgur.com/zk4Vypl.png' width='500'/>\n",
        "\n",
        "Essentially what this loss value tells us is that from the red line - which represents the models predicitons -  the actual target - one of the blue points - differs on average by a distance of sqrt(loss).\n",
        "\n",
        "This sets up the fundamental objective of machine learning, which is to reduce the loss so that our model is better at making predictions."
      ],
      "metadata": {
        "id": "4hofo74wSICk"
      }
    },
    {
      "cell_type": "markdown",
      "source": [
        "#Gradients\n",
        "\n",
        "PyTorch makes computing gradients really easy as it has a feature called *autograd*, meaning that for tensors with the property of `requires_grad` set to true, its derivative will be automatically computed. Tensors store these gradients in the `.grad` property."
      ],
      "metadata": {
        "id": "fkdTxBExWWel"
      }
    },
    {
      "cell_type": "code",
      "source": [
        "# Compute gradients\n",
        "loss.backward()"
      ],
      "metadata": {
        "id": "83vng5jtWWEK"
      },
      "execution_count": null,
      "outputs": []
    },
    {
      "cell_type": "markdown",
      "source": [
        "# Adjusting Weights and Biases\n",
        "\n",
        "The main objective is to find values for our weights and biases to reduce the loss function.\n",
        "\n",
        "<img src = 'https://imgur.com/TUKeVho.png' width =400/>\n",
        "\n",
        "If a gradient element is **positive**:\n",
        "\n",
        "* **increasing** the weight element's value slightly will **increase** the loss\n",
        "* **decreasing** the weight element's value slightly will **decrease** the loss\n",
        "\n",
        "If a gradient element is **negative**:\n",
        "\n",
        "* **increasing** the weight element's value slightly will **decrease** the loss\n",
        "* **decreasing** the weight element's value slightly will **increase** the loss\n",
        "\n",
        "We will essentially be altering the values of the initial weights several times until we reach the minima."
      ],
      "metadata": {
        "id": "IwPrfNv1Xmel"
      }
    },
    {
      "cell_type": "code",
      "source": [
        "# Train for 100 epochs\n",
        "lr = 1e-5\n",
        "\n",
        "for i in range(100):\n",
        "    #TO DO, what 3 lines do we need to write? and how do we find them? Hint: it's what you guys did above predict, find loss, update loss\n",
        "    #?\n",
        "    #?\n",
        "    #?\n",
        "    with torch.no_grad():\n",
        "      w -= ? #how do we update w? it's a multiplication\n",
        "      b -= ? #how do we update b?\n",
        "      w.grad.zero_()\n",
        "      b.grad.zero_()"
      ],
      "metadata": {
        "id": "ypPb9EeSgNZI"
      },
      "execution_count": null,
      "outputs": []
    },
    {
      "cell_type": "code",
      "source": [
        "# Calculate loss\n",
        "preds = model(inputs)\n",
        "loss = MSE(preds, targets)\n",
        "print(loss)"
      ],
      "metadata": {
        "id": "gx8Y5hvqgab-"
      },
      "execution_count": null,
      "outputs": []
    },
    {
      "cell_type": "code",
      "source": [
        "print(preds[0:10])"
      ],
      "metadata": {
        "id": "c0XO_BTyPJNX"
      },
      "execution_count": null,
      "outputs": []
    },
    {
      "cell_type": "code",
      "source": [
        "print(targets[0:10])"
      ],
      "metadata": {
        "id": "dAVv5oJlPTKB"
      },
      "execution_count": null,
      "outputs": []
    },
    {
      "cell_type": "markdown",
      "source": [
        "#Logistic Regression with PyTorch\n",
        "\n",
        "As we have solidified some of the concepts, we will move onto a more PyTorch intensive example."
      ],
      "metadata": {
        "id": "z2ICnZT2y600"
      }
    },
    {
      "cell_type": "code",
      "source": [
        "import torch\n",
        "import torchvision\n",
        "import matplotlib.pyplot as plt\n",
        "from torchvision.datasets import MNIST\n",
        "%matplotlib inline"
      ],
      "metadata": {
        "id": "UHt1kH5HdIHs"
      },
      "execution_count": null,
      "outputs": []
    },
    {
      "cell_type": "code",
      "source": [
        "dataset = MNIST(root = 'data/',download=True)"
      ],
      "metadata": {
        "id": "4CPblmaadRCv"
      },
      "execution_count": null,
      "outputs": []
    },
    {
      "cell_type": "code",
      "source": [
        "dataset"
      ],
      "metadata": {
        "id": "e8XmAnbvtKLZ",
        "colab": {
          "base_uri": "https://localhost:8080/"
        },
        "outputId": "3bdafbc6-4337-48c5-ce01-a9f7e54e2830"
      },
      "execution_count": null,
      "outputs": [
        {
          "output_type": "execute_result",
          "data": {
            "text/plain": [
              "Dataset MNIST\n",
              "    Number of datapoints: 60000\n",
              "    Root location: data/\n",
              "    Split: Train"
            ]
          },
          "metadata": {},
          "execution_count": 23
        }
      ]
    },
    {
      "cell_type": "code",
      "source": [
        "image,label=dataset[10]\n",
        "plt.imshow(image,cmap='gray')\n",
        "print(f\"Number: {label}\")"
      ],
      "metadata": {
        "id": "hjkCaSvxmd2V",
        "colab": {
          "base_uri": "https://localhost:8080/"
        },
        "outputId": "9b3814a4-e0cb-45d0-b744-3e70083fd4d1"
      },
      "execution_count": null,
      "outputs": [
        {
          "output_type": "stream",
          "name": "stdout",
          "text": [
            "Number: 3\n"
          ]
        },
        {
          "output_type": "display_data",
          "data": {
            "text/plain": [
              "<Figure size 640x480 with 1 Axes>"
            ],
            "image/png": "[encoded data removed]"
          },
          "metadata": {}
        }
      ]
    },
    {
      "cell_type": "markdown",
      "source": [
        "# Splitting Our Data\n",
        "\n",
        "<img src = 'https://imgur.com/T8ENrcX.png' width = 500/>\n",
        "\n",
        "We split our data into three different sets:\n",
        "\n",
        "1. **Training set** - used to train the model, i.e., compute the loss and adjust the model's weights using gradient descent.\n",
        "2. **Validation set** - used to evaluate the model during training, adjust hyperparameters (learning rate, etc.), and pick the best version of the model.\n",
        "3. **Test set** - used to compare different models or approaches and report the model's final accuracy.\n",
        "\n",
        "The MNIST dataset comes with 60,000 images in the training set and 10,000 testing images for the evaluation of our model."
      ],
      "metadata": {
        "id": "1J2engqjfpgT"
      }
    },
    {
      "cell_type": "code",
      "source": [
        "import torchvision.transforms as transforms\n"
      ],
      "metadata": {
        "id": "Y9vvI1r9rUwg"
      },
      "execution_count": null,
      "outputs": []
    },
    {
      "cell_type": "code",
      "source": [
        "testing_ds = MNIST(root = 'data/',\n",
        "                   train = False,\n",
        "                   transform =?) #transform to tensor\n",
        "dataset = MNIST(root='data/',\n",
        "                train=True,\n",
        "                transform=?)#transform to tensor"
      ],
      "metadata": {
        "id": "oOR-VAu8wFYg"
      },
      "execution_count": null,
      "outputs": []
    },
    {
      "cell_type": "code",
      "source": [
        "len(testing_ds), len(dataset)"
      ],
      "metadata": {
        "id": "FXcDMJ66reBN"
      },
      "execution_count": null,
      "outputs": []
    },
    {
      "cell_type": "markdown",
      "source": [
        "** As the 60,000 dataset segemenent does not include a segment for validation and training data, we will need to manually split it up.\n",
        "\n",
        "We do this using the `random_spilt` function in PyTorch in the data utils module. This is just so that we can have a good representation of the whole data set in our split. As when you have a dataset the way its sorted may mean when we select for example 50,000 images for our training set we may not have any number 9's and our 10,000 images for our validation set may be just 9's."
      ],
      "metadata": {
        "id": "YKHMFo3JrdxW"
      }
    },
    {
      "cell_type": "code",
      "source": [
        "from torch.utils.data import random_split\n",
        "training_ds, validation_ds = ? #try to split the data, how do you use random split?"
      ],
      "metadata": {
        "id": "R7OR5swRDG47"
      },
      "execution_count": null,
      "outputs": []
    },
    {
      "cell_type": "code",
      "source": [
        "len(training_ds), len(validation_ds)"
      ],
      "metadata": {
        "id": "WeOCwICaLx_H",
        "colab": {
          "base_uri": "https://localhost:8080/"
        },
        "outputId": "4947d857-5180-41c4-dfb6-e86c02cd82aa"
      },
      "execution_count": null,
      "outputs": [
        {
          "output_type": "execute_result",
          "data": {
            "text/plain": [
              "(40000, 10000)"
            ]
          },
          "metadata": {},
          "execution_count": 32
        }
      ]
    },
    {
      "cell_type": "markdown",
      "source": [
        "# Data Loader"
      ],
      "metadata": {
        "id": "VsCrwSH7iUtM"
      }
    },
    {
      "cell_type": "code",
      "source": [
        "from torch.utils.data import DataLoader\n",
        "\n",
        "training_loader = DataLoader(?) #check out the dataloader input field. You should focus on what you want to pass on, the batch size, and whether do you want to shuffle it or not\n",
        "validation_loader = DataLoader(?)"
      ],
      "metadata": {
        "id": "YR4Ez0vrCfOI"
      },
      "execution_count": null,
      "outputs": []
    },
    {
      "cell_type": "markdown",
      "source": [
        "For the training loadee `shuffle = True`, which just shuffles the data, to make sure the batches in each epoch are different. You want to shuffle your data after each epoch because you will always have the risk to create batches that are not representative of the overall dataset, and therefore, your estimate of the gradient will be off.  "
      ],
      "metadata": {
        "id": "NFzcJ-PP_Ig7"
      }
    },
    {
      "cell_type": "markdown",
      "source": [
        "# Creating our Model"
      ],
      "metadata": {
        "id": "YUhlsS-7MVRC"
      }
    },
    {
      "cell_type": "markdown",
      "source": [
        "Logistic Regression model is relatively similar to a linear regression model, where the predicted output is obtained via the following:\n",
        "\n",
        "```\n",
        "p = x @ w.t() + b\n",
        "```\n",
        "However, this time we will use the `nn.Linear` to create the model. Which applies a linear transformation to the incoming data: `y = xA^T + b`\n"
      ],
      "metadata": {
        "id": "1_9qQzx4M8Rx"
      }
    },
    {
      "cell_type": "code",
      "source": [
        "image,label = training_ds[0]\n",
        "print(f\"Dimensions: {image.shape}\")\n",
        "print(image.dtype)"
      ],
      "metadata": {
        "id": "vUZvkPFpMVAX",
        "colab": {
          "base_uri": "https://localhost:8080/"
        },
        "outputId": "07af1df7-63e4-45ec-9176-0d878d2c372b"
      },
      "execution_count": null,
      "outputs": [
        {
          "output_type": "stream",
          "name": "stdout",
          "text": [
            "Dimensions: torch.Size([32, 32, 3])\n",
            "torch.float32\n"
          ]
        }
      ]
    },
    {
      "cell_type": "markdown",
      "source": [
        "We know we have 10 images classes, as any given image is a number between 0 - 9, and our vector provided to `nn.Linear` will be of size (784) so we will reshape our image into 2D using the `.reshape` method."
      ],
      "metadata": {
        "id": "HkaneikrN-l7"
      }
    },
    {
      "cell_type": "markdown",
      "source": [
        "All PyTorch models are created by extending the `nn.Module` class"
      ],
      "metadata": {
        "id": "Kq_nffzEZjGi"
      }
    },
    {
      "cell_type": "code",
      "source": [
        "import torch.nn as nn"
      ],
      "metadata": {
        "id": "0RWo7OK7ZZcD"
      },
      "execution_count": null,
      "outputs": []
    },
    {
      "cell_type": "code",
      "source": [
        "class LrModel(nn.Module):\n",
        "    def __init__(self,input_size,output_size): # Sub Class\n",
        "        super().__init__()\n",
        "        self.linear = nn.Linear(?,?) #what are the required parameters?\n",
        "\n",
        "    def forward(self, x):\n",
        "        x = x.reshape(-1, ?) #You will be passing 'x' to linear, what do you think the flattened dimension of 'x' will be? what is 'x' in this case?\n",
        "        x = self.linear(x)\n",
        "        return x"
      ],
      "metadata": {
        "id": "f_EXtIG_Meog"
      },
      "execution_count": null,
      "outputs": []
    },
    {
      "cell_type": "code",
      "source": [
        "model = LrModel(?,?) #What values will the input and output sizes will be?"
      ],
      "metadata": {
        "id": "EWt0oLE1eLCr"
      },
      "execution_count": null,
      "outputs": []
    },
    {
      "cell_type": "markdown",
      "source": [
        "# Training and Validation Loops\n",
        "\n",
        "- This is over one epoch"
      ],
      "metadata": {
        "id": "E3BkdOLLcsbF"
      }
    },
    {
      "cell_type": "code",
      "source": [
        "from tqdm.notebook import tqdm"
      ],
      "metadata": {
        "id": "XsMDbVahfQj0"
      },
      "execution_count": null,
      "outputs": []
    },
    {
      "cell_type": "code",
      "source": [
        "# Function for the validation pass\n",
        "def validation(model, val_loader, loss_fn):\n",
        "    model.eval() # puts the model in validation mode\n",
        "    running_loss = 0\n",
        "    total = 0\n",
        "    correct = 0\n",
        "\n",
        "    with torch.no_grad(): # save memory by not saving gradients which we don't need\n",
        "        with tqdm(total=len(val_loader)) as pbar:\n",
        "            for images, labels in iter(val_loader): #batch in val loader\n",
        "\n",
        "                outputs = ? # passes image to the model, and gets a ouput which is the class probability prediction\n",
        "\n",
        "                val_loss = ? # calculates val_loss from model predictions and true labels (ie. How well model is fitting new data), check out how to use the loss function\n",
        "                running_loss += val_loss.item()\n",
        "\n",
        "\n",
        "                # Essentially measuring accuracy by checking the percantage of labels that have been correctly predicted\n",
        "                _, predicted = torch.max(outputs, 1) # turns class probability predictions to class labels\n",
        "                total += labels.size(0) # sums the number of predictions\n",
        "                correct += (predicted == labels).sum().item() # sums the number of correct predictions\n",
        "\n",
        "                pbar.update(1)\n",
        "\n",
        "        return running_loss/len(val_loader), correct/total # return loss value, accuracy"
      ],
      "metadata": {
        "id": "l8Di5AWZfScY"
      },
      "execution_count": null,
      "outputs": []
    },
    {
      "cell_type": "markdown",
      "source": [
        "You might be asking how does our model output probabilities for us to take the max and say, we are 60% confident the image inputted is a 8. With our Cross Entropy Loss function PyTorch will convert these weight sums to probablities using the softmax fucntion.\n",
        "\n",
        "How does it work?\n",
        "\n",
        "<img src = 'https://img.youtube.com/vi/lvNdl7yg4Pg/0.jpg' width=400/>\n",
        "\n"
      ],
      "metadata": {
        "id": "v79GLEdQk2Rc"
      }
    },
    {
      "cell_type": "code",
      "source": [
        "from torch.nn.functional import softmax"
      ],
      "metadata": {
        "id": "VmS6cJI7rwN4"
      },
      "execution_count": null,
      "outputs": []
    },
    {
      "cell_type": "code",
      "source": [
        "for images,labels in training_loader:\n",
        "  outputs = model(images)\n",
        "  break\n",
        "\n",
        "print(outputs[0:5])"
      ],
      "metadata": {
        "id": "EwOhjWPeub4S",
        "colab": {
          "base_uri": "https://localhost:8080/"
        },
        "outputId": "bb7ecb8e-d3eb-400b-f304-55a310b3468e"
      },
      "execution_count": null,
      "outputs": [
        {
          "output_type": "stream",
          "name": "stdout",
          "text": [
            "tensor([[  43.1719,  152.0312,  -18.0722,  -85.4630,   48.7397,   48.9370,\n",
            "           50.0164,   98.2436,  118.5226,  -61.6615],\n",
            "        [  -4.3671,   79.4289,  -40.1160, -100.9502,   26.3485,   74.8510,\n",
            "           32.8735,    5.9017,   16.6752,  -28.4602],\n",
            "        [  80.6273,  145.2575,  -47.9316, -124.6452,  -44.1160,   60.0709,\n",
            "           12.4996,   66.0997,   43.6516,  -27.5301],\n",
            "        [   2.6082,  130.5824,  -11.7134,  -82.6329,    8.3752,  -62.9916,\n",
            "           48.1324,   25.0796,  101.3885,  -65.7009],\n",
            "        [  65.7362,   58.2406,  -27.5547,  -80.5664,   35.1667,  -30.4268,\n",
            "           33.3388,   15.0204,  -29.1322,   11.1515]],\n",
            "       grad_fn=<SliceBackward0>)\n"
          ]
        }
      ]
    },
    {
      "cell_type": "code",
      "source": [
        "probability = softmax(outputs,1)\n",
        "print(probability[0:5])"
      ],
      "metadata": {
        "id": "GCB7Zmdvu26G",
        "colab": {
          "base_uri": "https://localhost:8080/"
        },
        "outputId": "78f95cc7-4e87-4583-8c87-22a7d6001998"
      },
      "execution_count": null,
      "outputs": [
        {
          "output_type": "stream",
          "name": "stdout",
          "text": [
            "tensor([[0.0000e+00, 1.0000e+00, 0.0000e+00, 0.0000e+00, 1.4013e-45, 1.4013e-45,\n",
            "         5.6052e-45, 4.3686e-24, 2.8018e-15, 0.0000e+00],\n",
            "        [4.0123e-37, 9.8983e-01, 0.0000e+00, 0.0000e+00, 8.7708e-24, 1.0172e-02,\n",
            "         5.9816e-21, 1.1563e-32, 5.5203e-28, 0.0000e+00],\n",
            "        [8.5400e-29, 1.0000e+00, 0.0000e+00, 0.0000e+00, 0.0000e+00, 1.0090e-37,\n",
            "         0.0000e+00, 4.1897e-35, 7.0065e-45, 0.0000e+00],\n",
            "        [0.0000e+00, 1.0000e+00, 0.0000e+00, 0.0000e+00, 0.0000e+00, 0.0000e+00,\n",
            "         1.5575e-36, 0.0000e+00, 2.0952e-13, 0.0000e+00],\n",
            "        [9.9944e-01, 5.5520e-04, 3.0481e-41, 0.0000e+00, 5.2917e-14, 1.7236e-42,\n",
            "         8.5060e-15, 9.4228e-23, 6.2946e-42, 1.9675e-24]],\n",
            "       grad_fn=<SliceBackward0>)\n"
          ]
        }
      ]
    },
    {
      "cell_type": "code",
      "source": [
        "print(torch.max(probability[0:5],1))"
      ],
      "metadata": {
        "id": "dJTrZAEazVnH",
        "colab": {
          "base_uri": "https://localhost:8080/"
        },
        "outputId": "e4eff8fd-90b6-4e85-b9ca-ed7ca8fa799a"
      },
      "execution_count": null,
      "outputs": [
        {
          "output_type": "stream",
          "name": "stdout",
          "text": [
            "torch.return_types.max(\n",
            "values=tensor([1.0000, 0.9898, 1.0000, 1.0000, 0.9994], grad_fn=<MaxBackward0>),\n",
            "indices=tensor([1, 1, 1, 1, 0]))\n"
          ]
        }
      ]
    },
    {
      "cell_type": "code",
      "source": [
        "torch.flatten(labels[0:5])"
      ],
      "metadata": {
        "id": "Dq8hnAyrzcD8",
        "colab": {
          "base_uri": "https://localhost:8080/"
        },
        "outputId": "fa1822f5-8f2e-4936-a28c-48d1883e0269"
      },
      "execution_count": null,
      "outputs": [
        {
          "output_type": "execute_result",
          "data": {
            "text/plain": [
              "tensor([3, 7, 1, 8, 7], dtype=torch.uint8)"
            ]
          },
          "metadata": {},
          "execution_count": 46
        }
      ]
    },
    {
      "cell_type": "markdown",
      "source": [
        "# Loss Functions\n",
        "Cross Entropy Loss function is often used for classification problems, it works by taking the predicted probability for the correct label, so from above in the first row it would be its max value. It then logs this number so high probs (0.89etc) will have a value loss value closer to 0 and lower probs a loss value closer to 1.\n",
        "\n",
        "The average of all the losses is the overall loss for the batch.\n",
        "\n",
        "Access loss functions from `torch.nn`"
      ],
      "metadata": {
        "id": "hUExLGhizr7A"
      }
    },
    {
      "cell_type": "markdown",
      "source": [
        "# Training"
      ],
      "metadata": {
        "id": "HYuAkKIc5nL2"
      }
    },
    {
      "cell_type": "code",
      "source": [
        "loss_fn = ? #what loss function here shuold we use? what kind of a problem is this?\n",
        "optimizer = torch.optim.SGD(model.parameters(), lr = ?) #feel free to play around with the learning rate and see what happens"
      ],
      "metadata": {
        "id": "mjk8R3X46H6Y"
      },
      "execution_count": null,
      "outputs": []
    },
    {
      "cell_type": "code",
      "source": [
        "def fit(total_epoch, model, training_loader, loss_fn, optimizer, validation_loader):\n",
        "  for epoch in range(total_epoch): # loops through number of epochs\n",
        "    train_loss = ?  # train the model for one epoch\n",
        "    val_loss, accuracy = ? # after training for one epoch, run the validation() function to see how the model is doing on the validation dataset\n",
        "    print(\"Epoch: {}/{}, Training Loss: {}, Val Loss: {}, Val Accuracy: {}\".format(epoch+1, total_epoch, train_loss, val_loss, accuracy))\n",
        "    print('-' * 20)\n",
        "\n",
        "  print(\"Finished Training\")"
      ],
      "metadata": {
        "id": "Co3763ec7JfK"
      },
      "execution_count": null,
      "outputs": []
    },
    {
      "cell_type": "code",
      "source": [
        "fit(5, model, training_loader, loss_fn, optimizer, validation_loader)"
      ],
      "metadata": {
        "id": "TVcomU5Tzrq-"
      },
      "execution_count": null,
      "outputs": []
    },
    {
      "cell_type": "markdown",
      "source": [
        "# Testing + Saving & Loading Weights"
      ],
      "metadata": {
        "id": "YDeGfm2QF6Qp"
      }
    },
    {
      "cell_type": "code",
      "source": [
        "testing_ds"
      ],
      "metadata": {
        "id": "g5UZN13bWIFK",
        "colab": {
          "base_uri": "https://localhost:8080/"
        },
        "outputId": "1e819399-b6a5-4b44-ef32-8b20b3091d39"
      },
      "execution_count": null,
      "outputs": [
        {
          "output_type": "execute_result",
          "data": {
            "text/plain": [
              "Dataset MNIST\n",
              "    Number of datapoints: 10000\n",
              "    Root location: data/\n",
              "    Split: Test\n",
              "    StandardTransform\n",
              "Transform: ToTensor()"
            ]
          },
          "metadata": {},
          "execution_count": 46
        }
      ]
    },
    {
      "cell_type": "code",
      "source": [
        "image, label = testing_ds[340]\n",
        "plt.imshow(image[0],cmap='gray')\n",
        "x = image.unsqueeze(0)\n",
        "x = model(x)\n",
        "_,predictions = torch.max(x,1)\n",
        "print(f\"Predicted:{predictions[0].item()} Label:{label}\")"
      ],
      "metadata": {
        "id": "OFg8YeZhWJaB",
        "colab": {
          "base_uri": "https://localhost:8080/",
          "height": 447
        },
        "outputId": "60832229-dbde-4e0e-d2cc-a5373c9f958d"
      },
      "execution_count": null,
      "outputs": [
        {
          "output_type": "stream",
          "name": "stdout",
          "text": [
            "Predicted:6 Label:5\n"
          ]
        },
        {
          "output_type": "display_data",
          "data": {
            "text/plain": [
              "<Figure size 640x480 with 1 Axes>"
            ],
            "image/png": "[encoded data removed]"
          },
          "metadata": {}
        }
      ]
    },
    {
      "cell_type": "code",
      "source": [
        "testing_loader = DataLoader(testing_ds,batch_size=10000,shuffle = False)\n",
        "loss, accuracy = validation(model, testing_loader, loss_fn)\n",
        "print(f\"Loss: {loss}, Accuracy: {accuracy}\")"
      ],
      "metadata": {
        "id": "p9yHF78HX_Q5",
        "colab": {
          "base_uri": "https://localhost:8080/",
          "referenced_widgets": [
            "fbbe60336f094584a0d2f71d1fc98e76",
            "751da4e166de46f7828db41c0bb5a561",
            "d9ba3f2b39f44738b7f45d497b9ad224",
            "04a8e5988fea47e1afd7d8b7d1c33e88",
            "42baff3d80574d6aba9661f88f7db593",
            "b19cc4d2d38b4827b3fb5c3d2a902ad8",
            "33e0cb458bde477586abc2dcb591aac9",
            "ed139330696a43b1a618a6dbc43aca9e",
            "28727dfc21ed40d8b77a3bebdbb8e1d8",
            "ea5be14bb4414413a070efe691a2be3d",
            "321e8cb3903a4d9cbc3d622e84878797"
          ],
          "height": 66
        },
        "outputId": "3337d6cb-95fb-4f14-f1ec-770694d74d4b"
      },
      "execution_count": null,
      "outputs": [
        {
          "output_type": "display_data",
          "data": {
            "text/plain": [
              "  0%|          | 0/1 [00:00<?, ?it/s]"
            ],
            "application/vnd.jupyter.widget-view+json": {
              "version_major": 2,
              "version_minor": 0,
              "model_id": "fbbe60336f094584a0d2f71d1fc98e76"
            }
          },
          "metadata": {}
        },
        {
          "output_type": "stream",
          "name": "stdout",
          "text": [
            "Loss: 0.8683621883392334, Accuracy: 0.8381\n"
          ]
        }
      ]
    },
    {
      "cell_type": "markdown",
      "source": [
        "Try to visualise a batch of prediction using matplotlib subplots!"
      ],
      "metadata": {
        "id": "TlIC0syzQReX"
      }
    },
    {
      "cell_type": "code",
      "source": [
        "#explore in your group on how to use matplotlib subplots! Plot more than 1"
      ],
      "metadata": {
        "id": "c0HTv9T1QQpK"
      },
      "execution_count": null,
      "outputs": []
    },
    {
      "cell_type": "markdown",
      "source": [
        "## How to save weights and biases\n",
        "\n",
        "As the topology of loss landscapes can be vastly complex there is potential that your model may not have the best set of weights and biases as, you could well and truly be in a decent local minima, however there may be a better solution. As such you may want to train you model a few times and pick the best sets of weights and biases."
      ],
      "metadata": {
        "id": "_3OuYgqZaBir"
      }
    },
    {
      "cell_type": "code",
      "source": [
        "torch.save(model.state_dict(),'lr_model1') # returns an OrderedDict"
      ],
      "metadata": {
        "id": "8umEYGIBa3l-"
      },
      "execution_count": null,
      "outputs": []
    },
    {
      "cell_type": "markdown",
      "source": [
        "To retrain instantiate your model class"
      ],
      "metadata": {
        "id": "OjzHau5VbMYN"
      }
    },
    {
      "cell_type": "code",
      "source": [
        "pretrained_model = LrModel(784,10)"
      ],
      "metadata": {
        "id": "F8L1LlMubV_6"
      },
      "execution_count": null,
      "outputs": []
    },
    {
      "cell_type": "code",
      "source": [
        "pretrained_model.load_state_dict(torch.load('lr_model1'))"
      ],
      "metadata": {
        "id": "1-2RtD55e86K"
      },
      "execution_count": null,
      "outputs": []
    },
    {
      "cell_type": "code",
      "source": [
        "testing_loader = DataLoader(testing_ds,batch_size=10000,shuffle = False)\n",
        "loss, accuracy = validation(pretrained_model, testing_loader, loss_fn)\n",
        "print(f\"Loss: {loss}, Accuracy: {accuracy}\")"
      ],
      "metadata": {
        "id": "mlx5_wjKfHto"
      },
      "execution_count": null,
      "outputs": []
    }
  ]
}