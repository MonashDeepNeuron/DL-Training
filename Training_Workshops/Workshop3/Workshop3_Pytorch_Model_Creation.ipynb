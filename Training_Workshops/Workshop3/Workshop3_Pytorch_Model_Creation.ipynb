{
  "nbformat": 4,
  "nbformat_minor": 0,
  "metadata": {
    "colab": {
      "provenance": []
    },
    "kernelspec": {
      "name": "python3",
      "display_name": "Python 3"
    },
    "accelerator": "GPU",
    "gpuClass": "standard"
  },
  "cells": [
    {
      "cell_type": "markdown",
      "metadata": {
        "id": "c7ckYLzk1qXx"
      },
      "source": [
        "# Workshop 3 - Pytorch Model Creation\n",
        "DeepNeuron semester 2 training 2023.\n",
        "\n",
        "Create a model using Pytorch which acts as a classifier for the CIFAR-10 dataset\n",
        "\n",
        "**Before starting:**\n",
        "\n",
        "1. **Don't edit this file, make a copy first:**\n",
        "  * Click on File -> Save a copy in Drive\n",
        "\n",
        "2. Also do the following:\n",
        "  * Click on Runtime -> Change runtime type -> Make sure hardware accelerator is set to GPU\n"
      ]
    },
    {
      "cell_type": "markdown",
      "metadata": {
        "id": "8A5h_HSa1ntg"
      },
      "source": [
        "## Imports\n",
        "Do all your imports here"
      ]
    },
    {
      "cell_type": "code",
      "metadata": {
        "id": "EyssqirK0o_i"
      },
      "source": [
        "import torch\n",
        "import torch.nn as nn\n",
        "import torch.nn.functional as F\n",
        "import torch.optim as optim\n",
        "import torchvision.transforms as transforms\n",
        "import numpy as np\n",
        "import torchvision.datasets as datasets\n",
        "from torch.utils.data import Dataset, DataLoader\n",
        "from tqdm import tqdm\n",
        "from torchsummary import summary"
      ],
      "execution_count": null,
      "outputs": []
    },
    {
      "cell_type": "markdown",
      "metadata": {
        "id": "4SqDdINODxlI"
      },
      "source": [
        "## Dataset\n",
        "\n",
        "Here we use the [CIFAR-10](https://www.cs.toronto.edu/~kriz/cifar.html) dataset.\n",
        "\n",
        "CIFAR-10 dataset consists of 60000 32x32 colour images in 10 classes, with 6000 images per class.\n",
        "There are 50000 training images and 10000 test images."
      ]
    },
    {
      "cell_type": "code",
      "metadata": {
        "id": "tC050ZXb7xST"
      },
      "source": [
        "# Define transforms for the training and testing set\n",
        "training_transforms = transforms.Compose([transforms.RandomRotation(30),\n",
        "                                          transforms.RandomHorizontalFlip(),\n",
        "                                          transforms.ToTensor(),\n",
        "                                          transforms.Normalize([0.485, 0.456, 0.406],\n",
        "                                                               [0.229, 0.224, 0.225])])\n",
        "\n",
        "test_transforms = transforms.Compose([transforms.ToTensor(),\n",
        "                                            transforms.Normalize([0.485, 0.456, 0.406],\n",
        "                                                                 [0.229, 0.224, 0.225])])"
      ],
      "execution_count": null,
      "outputs": []
    },
    {
      "cell_type": "code",
      "metadata": {
        "id": "sbt08-r472CL",
        "colab": {
          "base_uri": "https://localhost:8080/"
        },
        "outputId": "5bb8d4ce-cd40-47ad-fe16-37ce84021347"
      },
      "source": [
        "train_set = datasets.CIFAR10(root='./data', train=True, download=True, transform=training_transforms)\n",
        "test_set = datasets.CIFAR10(root='./data', train=False, download=True, transform=test_transforms)\n",
        "\n",
        "# split train/valid from train set\n",
        "train_set, valid_set = torch.utils.data.random_split(train_set, [40000, 10000])"
      ],
      "execution_count": null,
      "outputs": [
        {
          "output_type": "stream",
          "name": "stdout",
          "text": [
            "Files already downloaded and verified\n",
            "Files already downloaded and verified\n"
          ]
        }
      ]
    },
    {
      "cell_type": "markdown",
      "source": [
        "We discussed the shuffle function in Workshop 2.\n",
        "Please indicate whether the following dataset requires shuffling."
      ],
      "metadata": {
        "id": "iOkg5hbf57ds"
      }
    },
    {
      "cell_type": "code",
      "metadata": {
        "id": "vWeIDeU175q_"
      },
      "source": [
        "# ----- set True or False for shuffing ---\n",
        "trainloader = torch.utils.data.DataLoader(train_set, batch_size=64, shuffle= )\n",
        "testloader = torch.utils.data.DataLoader(test_set, batch_size=64, shuffle= )\n",
        "validloader = torch.utils.data.DataLoader(valid_set, batch_size=64, shuffle= )"
      ],
      "execution_count": null,
      "outputs": []
    },
    {
      "cell_type": "code",
      "metadata": {
        "id": "NOPg6xkq76Ds",
        "colab": {
          "base_uri": "https://localhost:8080/"
        },
        "outputId": "e98b9ed2-038c-41e4-ae42-82b7374f1282"
      },
      "source": [
        "# Check what classes are in our dataset\n",
        "\n",
        "num_classes = len(test_set.classes)\n",
        "print(num_classes)"
      ],
      "execution_count": null,
      "outputs": [
        {
          "output_type": "stream",
          "name": "stdout",
          "text": [
            "10\n"
          ]
        }
      ]
    },
    {
      "cell_type": "code",
      "source": [
        "out = next(iter(trainloader))\n",
        "print(out[0].shape)"
      ],
      "metadata": {
        "id": "MvslsR-FSJi4",
        "colab": {
          "base_uri": "https://localhost:8080/"
        },
        "outputId": "509d6809-08c6-4b59-d5b3-28518df44b51"
      },
      "execution_count": null,
      "outputs": [
        {
          "output_type": "stream",
          "name": "stdout",
          "text": [
            "torch.Size([64, 3, 32, 32])\n"
          ]
        }
      ]
    },
    {
      "cell_type": "markdown",
      "source": [
        "We find that our input image is of size 32 x 32, in batches of 64.\n",
        "\n",
        "`output` = `torch.Size([batch_size, depth, height, width])`\n",
        "\n",
        "Use this image size, to calculate the input dimensions for the fully connected layer with a convolution calculator."
      ],
      "metadata": {
        "id": "iOO9bHKTSONn"
      }
    },
    {
      "cell_type": "markdown",
      "metadata": {
        "id": "YuT7EHsP0w6V"
      },
      "source": [
        "# Model Creation\n",
        "Create your model here. The model stub has already been created, you will need to define an `__init__` and a `forward()` method for your class.\n",
        "\n",
        "Your model will need:\n",
        "1. Convolutional Layer (input_channels = **____**, output_channels = 6, kernel_size = 5)\n",
        "2. Max Pool (kernel_size = 2, stride = 2)\n",
        "3. Convolutional Layer (input_channels = **____**, output_channels = 16, kernel_size = 5)\n",
        "2. Max Pool (kernel_size = 2, stride = 2)\n",
        "4. Fully Connected Layer (**Figure out the in_features size**, out_features is 120)\n",
        "5. Fully Connected Layer (in_features is 120, out_features is 84)\n",
        "5. Fully Connected Layer (in_features is 84, **out_features is the number of classes**)\n",
        "\n",
        "Then, in your forward pass, the input should flow like so:\n",
        "1. Convolutional Layer 1\n",
        "2. ReLU\n",
        "5. Max Pool\n",
        "3. Convolutional Layer 2\n",
        "4. ReLU\n",
        "5. Max Pool\n",
        "6. Flatten the input, so it can be passed through the fully connected layers\n",
        "7. Fully Connected Layer 1\n",
        "8. ReLU\n",
        "9. Fully Connected Layer 2\n",
        "10. ReLU\n",
        "11. Fully Connected Layer 3\n",
        "\n",
        "### Hints\n",
        "\n",
        "All layers are found in nn:\n",
        "* Fully Connected Layer: `Linear(num_inputs, num_outputs)`\n",
        "* Max Pooling: `MaxPool2d(kernel_size, stride)`\n",
        "* Convolutional Layer: `Conv2d(input_channels, output_channels, kernel_size, stride)`\n",
        "* Define your layers in the `__init__` method of your model\n",
        "* Flatten a PyTorch tensor using `.flatten()`\n",
        "* Convolutional Layer Size : `Floor((input_size + 2*padding - kernel) / stride + 1)`\n",
        "* `conv1(3x32x32)->pooling(6x__x__)->conv2(6x__x__)->pooling(16x__x__)->fc1(16x__x__) -> output (num_class)`\n",
        "\n",
        "* `conv1(3x32x32)->pooling(6x28x28)->conv2(6x14x14)->pooling(16x10x10)->fc1(16x5x5) -> output (10)`\n",
        "\n",
        "\n",
        "The ReLU function can be found in `nn.functional.relu()`\n",
        "\n",
        "Make sure to set the flatten start dimension to 1 (to not flatten out the batch boundaries too): `.flatten(start_dim=1)`\n",
        "\n"
      ]
    },
    {
      "cell_type": "code",
      "source": [
        "class SimpleCNN(nn.Module):\n",
        "  def __init__(self):\n",
        "    super(SimpleCNN, self).__init__()\n",
        "\n",
        "    # ------- Your Code here ------------\n",
        "    # convolutional layer 1\n",
        "    self.conv1 =\n",
        "    # convolutional layer 2\n",
        "    self.conv2 =\n",
        "    # pooling layer\n",
        "    self.pool =\n",
        "\n",
        "    # fully connected layer (fc)\n",
        "    self.fc1 = nn.Linear(in_features = , out_features = 120) ## find out the in_feature size\n",
        "    self.fc2 = nn.Linear(in_features = 120, out_features = 84)\n",
        "    # the output should be the number of classes\n",
        "    self.fc3 = nn.Linear(in_features = 84, out_features = ) ## find out the out_features size\n",
        "\n",
        "  def forward(self, x):\n",
        "    # ------- Your Code here ------------\n",
        "    # conv1 -> ReLu() -> Pooling\n",
        "    x =\n",
        "    # conv2 -> ReLu() -> Pooling\n",
        "    x =\n",
        "    # flatten\n",
        "    x =\n",
        "    # put into fc layers\n",
        "    x = F.relu(self.fc1(x))\n",
        "    x = F.relu(self.fc2(x))\n",
        "    x = self.fc3(x)\n",
        "    return x\n"
      ],
      "metadata": {
        "id": "akkrVbSq0cgm"
      },
      "execution_count": null,
      "outputs": []
    },
    {
      "cell_type": "markdown",
      "source": [
        "## Deeper CNN\n",
        "Alternatively we can use `nn.Sequential` build the model. `nn.Sequential` is a sequential container, and we need to sequentially place the desired layers into it according to the desired order.\n",
        "\n",
        "For more infomation of `nn.Sequential`, you can find it on [Sequential](https://pytorch.org/docs/stable/generated/torch.nn.Sequential.html)"
      ],
      "metadata": {
        "id": "8gdY_Et0QlyV"
      }
    },
    {
      "cell_type": "code",
      "source": [
        "class DeeperCNN(nn.Module):\n",
        "    def __init__(self):\n",
        "      super(DeeperCNN, self).__init__()\n",
        "\n",
        "      self.cnn_layer=nn.Sequential(\n",
        "            nn.Conv2d(3, 128, 5, 1, 2),\n",
        "            nn.BatchNorm2d(128),\n",
        "            nn.ReLU(),\n",
        "            nn.Conv2d(128, 128, 5, 1, 2),\n",
        "            nn.BatchNorm2d(128),\n",
        "            nn.ReLU(),\n",
        "            nn.MaxPool2d(2, 2),\n",
        "            nn.Dropout2d(p=0.25),\n",
        "\n",
        "            nn.Conv2d(128, 256, 3, 1, 1),\n",
        "            nn.BatchNorm2d(256),\n",
        "            nn.ReLU(),\n",
        "            nn.Conv2d(256, 256, 3, 1, 1),\n",
        "            nn.BatchNorm2d(256),\n",
        "            nn.ReLU(),\n",
        "            nn.MaxPool2d(2, 2),\n",
        "            nn.Dropout2d(p=0.25))\n",
        "\n",
        "      self.dense_fc=nn.Sequential(\n",
        "            nn.Linear(256 * 8 * 8, 1024),\n",
        "            nn.BatchNorm1d(1024),\n",
        "            nn.ReLU(),\n",
        "            nn.Dropout(p=0.5),\n",
        "            nn.Linear(1024, 512),\n",
        "            nn.BatchNorm1d(512),\n",
        "            nn.ReLU(),\n",
        "            nn.Dropout(p=0.5),\n",
        "            nn.Linear(512, 10)\n",
        "        )\n",
        "    # definde how to execute\n",
        "    def forward(self, x):\n",
        "        x= self.cnn_layer(x)\n",
        "        x = x.flatten(1)\n",
        "        x = self.dense_fc(x)\n",
        "        return x"
      ],
      "metadata": {
        "id": "-hDnCOGo1igK"
      },
      "execution_count": null,
      "outputs": []
    },
    {
      "cell_type": "markdown",
      "source": [
        "### More Models\n",
        "\n",
        "Instead of designing the models by yourself, you can also import the models from [torchvision](https://pytorch.org/vision/stable/models.html).\n",
        "\n",
        "For example: ResNet, AlexNet, VGG, .."
      ],
      "metadata": {
        "id": "K3blrv3hrr_r"
      }
    },
    {
      "cell_type": "markdown",
      "metadata": {
        "id": "c4Af1zPc11cQ"
      },
      "source": [
        "#Training Using Your Model\n",
        "It's time to train your model!\n",
        "\n",
        "We use a basic PyTorch training loop, with standard built-in datasets, dataloaders and training loops"
      ]
    },
    {
      "cell_type": "code",
      "source": [
        "class Train_model():\n",
        "    def __init__(self, model, criterion, optimizer, device):\n",
        "        self.model=model\n",
        "        self.criterion=criterion #loss function\n",
        "        self.optimizer=optimizer\n",
        "        self.device=device\n",
        "\n",
        "    def train_epoch(self, trainloader):\n",
        "        model = self.model.train() # puts the model in training mode\n",
        "        correct=0\n",
        "        running_loss = 0.0\n",
        "        progress_bar=tqdm(trainloader)\n",
        "        for data in progress_bar:\n",
        "            batch, labels = data  # separate inputs and labels (outputs)\n",
        "            batch, labels = batch.to(self.device), labels.to(self.device)  # puts the data on the GPU\n",
        "\n",
        "            self.optimizer.zero_grad() # clear the gradients in model parameters\n",
        "            outputs = model(batch) # put data into model to predict\n",
        "            loss = self.criterion(outputs, labels) # calculate loss between prediction and true labels\n",
        "            loss.backward() # back propagation: pass the loss\n",
        "            self.optimizer.step()  # iterate over all parameters in the model with requires_grad=True and update their weights.\n",
        "\n",
        "            # compute training statistics\n",
        "            _, predicted = torch.max(outputs, 1)\n",
        "            correct += (predicted == labels).sum().item()\n",
        "            running_loss += loss.item() # sum total loss in current epoch for print later\n",
        "            progress_bar.set_postfix(loss=loss.item())\n",
        "\n",
        "        avg_loss = running_loss / len(train_set)\n",
        "        avg_acc = correct / len(train_set)\n",
        "\n",
        "        return avg_loss, avg_acc\n",
        "\n",
        "    def eval_model(self, validloader):\n",
        "        model=self.model.eval() # puts the model in validation mode\n",
        "        with torch.no_grad():\n",
        "            loss_val = 0.0\n",
        "            correct_val = 0\n",
        "        for data in tqdm(validloader):\n",
        "            batch, labels = data\n",
        "            batch, labels = batch.to(self.device), labels.to(self.device)\n",
        "            outputs = model(batch)\n",
        "            loss = self.criterion(outputs, labels)\n",
        "            _, predicted = torch.max(outputs, 1)\n",
        "            correct_val += (predicted == labels).sum().item()\n",
        "            loss_val += loss.item()\n",
        "        avg_loss_val = loss_val / len(valid_set)\n",
        "        avg_acc_val = correct_val /len(valid_set)\n",
        "\n",
        "        return avg_loss_val, avg_acc_val\n",
        "\n",
        "    def test(self, testloader):\n",
        "        correct = 0\n",
        "        model=self.model.eval()\n",
        "        with torch.no_grad(): # no gradient calculation\n",
        "            for data in testloader:\n",
        "                batch, labels = data\n",
        "                batch, labels = batch.to(self.device), labels.to(self.device)\n",
        "                outputs = model(batch)\n",
        "                _, predicted = torch.max(outputs, 1)\n",
        "                correct += (predicted == labels).sum().item()\n",
        "        return ('Accuracy on the test images: %.2f %%' % (100 * correct / len(test_set)))\n"
      ],
      "metadata": {
        "id": "5xB-gwbfW0RN"
      },
      "execution_count": null,
      "outputs": []
    },
    {
      "cell_type": "markdown",
      "metadata": {
        "id": "ydV1hGkjD4un"
      },
      "source": [
        "# Training Time\n",
        "1. SimpleCNN\n",
        "2. Deeper CNN"
      ]
    },
    {
      "cell_type": "markdown",
      "metadata": {
        "id": "5I9pnrkfGDuL"
      },
      "source": [
        "We now need to define our loss function and optimiser"
      ]
    },
    {
      "cell_type": "code",
      "metadata": {
        "id": "JPRa5hVQ8Vg1"
      },
      "source": [
        "device=torch.device(\"cuda:0\" if torch.cuda.is_available() else \"cpu\") # Determine whether a GPU is available\n",
        "criterion = nn.CrossEntropyLoss().to(device)  # We use Cross Entropy Loss, as this is a classification task\n",
        "\n",
        "\n",
        "## SimpleCNN\n",
        "simplecnn=SimpleCNN()\n",
        "simplecnn.to(device) # send model to GPU\n",
        "optimizer = optim.Adam(simplecnn.parameters(), lr=0.01, betas=(0.9, 0.999), eps=1e-08, weight_decay=0, amsgrad=False) # If in doubt, we use Adam as our optimiser\n",
        "\n",
        "SimpleModel=Train_model(simplecnn, criterion, optimizer, device)\n",
        "\n",
        "## DeeperCNN\n",
        "deepercnn=DeeperCNN()\n",
        "deepercnn.to(device) # send model to GPU\n",
        "optimizer = optim.Adam(deepercnn.parameters(), lr=0.01, betas=(0.9, 0.999), eps=1e-08, weight_decay=0, amsgrad=False) # If in doubt, we use Adam as our optimiser\n",
        "\n",
        "DeeperModel=Train_model(deepercnn, criterion, optimizer, device)\n"
      ],
      "execution_count": null,
      "outputs": []
    },
    {
      "cell_type": "code",
      "metadata": {
        "id": "wJCMl2am7-dH",
        "colab": {
          "base_uri": "https://localhost:8080/"
        },
        "outputId": "eb96354c-84ec-459e-b340-8dd89f838bd3"
      },
      "source": [
        "epoch=10\n",
        "#acc log for graph\n",
        "simp_acc_hist = []\n",
        "simp_acc_hist_val =[]\n",
        "for e in range(epoch):\n",
        "  print(f'Epoch {e + 1}/{epoch}')\n",
        "  print('-' * 10)\n",
        "  simple_train_loss ,simple_train_acc= SimpleModel.train_epoch(trainloader)\n",
        "  simp_acc_hist.append(simple_train_acc)\n",
        "  print(f'Train loss {simple_train_loss} accuracy {simple_train_acc}')\n",
        "\n",
        "  simple_val_loss, simple_val_acc = SimpleModel.eval_model(validloader)\n",
        "  simp_acc_hist_val.append(simple_val_acc)\n",
        "\n",
        "  print(f'Val loss {simple_val_loss} accuracy {simple_val_acc}')\n",
        "  print()"
      ],
      "execution_count": null,
      "outputs": [
        {
          "output_type": "stream",
          "name": "stdout",
          "text": [
            "Epoch 1/10\n",
            "----------\n"
          ]
        },
        {
          "output_type": "stream",
          "name": "stderr",
          "text": [
            "100%|██████████| 625/625 [00:21<00:00, 28.82it/s, loss=1.9]\n"
          ]
        },
        {
          "output_type": "stream",
          "name": "stdout",
          "text": [
            "Train loss 0.029010941043496132 accuracy 0.296125\n"
          ]
        },
        {
          "output_type": "stream",
          "name": "stderr",
          "text": [
            "100%|██████████| 157/157 [00:05<00:00, 30.91it/s]\n"
          ]
        },
        {
          "output_type": "stream",
          "name": "stdout",
          "text": [
            "Val loss 0.030129196715354918 accuracy 0.277\n",
            "\n",
            "Epoch 2/10\n",
            "----------\n"
          ]
        },
        {
          "output_type": "stream",
          "name": "stderr",
          "text": [
            "100%|██████████| 625/625 [00:21<00:00, 29.29it/s, loss=1.64]\n"
          ]
        },
        {
          "output_type": "stream",
          "name": "stdout",
          "text": [
            "Train loss 0.028820507594943045 accuracy 0.294925\n"
          ]
        },
        {
          "output_type": "stream",
          "name": "stderr",
          "text": [
            "100%|██████████| 157/157 [00:05<00:00, 31.02it/s]\n"
          ]
        },
        {
          "output_type": "stream",
          "name": "stdout",
          "text": [
            "Val loss 0.028865650868415832 accuracy 0.2924\n",
            "\n",
            "Epoch 3/10\n",
            "----------\n"
          ]
        },
        {
          "output_type": "stream",
          "name": "stderr",
          "text": [
            "100%|██████████| 625/625 [00:22<00:00, 27.95it/s, loss=1.81]\n"
          ]
        },
        {
          "output_type": "stream",
          "name": "stdout",
          "text": [
            "Train loss 0.02878865431547165 accuracy 0.297975\n"
          ]
        },
        {
          "output_type": "stream",
          "name": "stderr",
          "text": [
            "100%|██████████| 157/157 [00:04<00:00, 32.11it/s]\n"
          ]
        },
        {
          "output_type": "stream",
          "name": "stdout",
          "text": [
            "Val loss 0.029706427943706513 accuracy 0.2866\n",
            "\n",
            "Epoch 4/10\n",
            "----------\n"
          ]
        },
        {
          "output_type": "stream",
          "name": "stderr",
          "text": [
            "100%|██████████| 625/625 [00:21<00:00, 28.69it/s, loss=1.81]\n"
          ]
        },
        {
          "output_type": "stream",
          "name": "stdout",
          "text": [
            "Train loss 0.028878353616595267 accuracy 0.294225\n"
          ]
        },
        {
          "output_type": "stream",
          "name": "stderr",
          "text": [
            "100%|██████████| 157/157 [00:04<00:00, 34.31it/s]\n"
          ]
        },
        {
          "output_type": "stream",
          "name": "stdout",
          "text": [
            "Val loss 0.028764764845371247 accuracy 0.3061\n",
            "\n",
            "Epoch 5/10\n",
            "----------\n"
          ]
        },
        {
          "output_type": "stream",
          "name": "stderr",
          "text": [
            "100%|██████████| 625/625 [00:22<00:00, 27.93it/s, loss=1.76]\n"
          ]
        },
        {
          "output_type": "stream",
          "name": "stdout",
          "text": [
            "Train loss 0.028741575187444687 accuracy 0.2979\n"
          ]
        },
        {
          "output_type": "stream",
          "name": "stderr",
          "text": [
            "100%|██████████| 157/157 [00:04<00:00, 36.17it/s]\n"
          ]
        },
        {
          "output_type": "stream",
          "name": "stdout",
          "text": [
            "Val loss 0.02956011904478073 accuracy 0.2967\n",
            "\n",
            "Epoch 6/10\n",
            "----------\n"
          ]
        },
        {
          "output_type": "stream",
          "name": "stderr",
          "text": [
            "100%|██████████| 625/625 [00:22<00:00, 28.23it/s, loss=1.59]\n"
          ]
        },
        {
          "output_type": "stream",
          "name": "stdout",
          "text": [
            "Train loss 0.028253304451704025 accuracy 0.30935\n"
          ]
        },
        {
          "output_type": "stream",
          "name": "stderr",
          "text": [
            "100%|██████████| 157/157 [00:04<00:00, 36.48it/s]\n"
          ]
        },
        {
          "output_type": "stream",
          "name": "stdout",
          "text": [
            "Val loss 0.028035485899448393 accuracy 0.3175\n",
            "\n",
            "Epoch 7/10\n",
            "----------\n"
          ]
        },
        {
          "output_type": "stream",
          "name": "stderr",
          "text": [
            "100%|██████████| 625/625 [00:24<00:00, 25.80it/s, loss=1.77]\n"
          ]
        },
        {
          "output_type": "stream",
          "name": "stdout",
          "text": [
            "Train loss 0.027710974583029745 accuracy 0.322475\n"
          ]
        },
        {
          "output_type": "stream",
          "name": "stderr",
          "text": [
            "100%|██████████| 157/157 [00:04<00:00, 34.76it/s]\n"
          ]
        },
        {
          "output_type": "stream",
          "name": "stdout",
          "text": [
            "Val loss 0.02757817256450653 accuracy 0.3328\n",
            "\n",
            "Epoch 8/10\n",
            "----------\n"
          ]
        },
        {
          "output_type": "stream",
          "name": "stderr",
          "text": [
            "100%|██████████| 625/625 [00:31<00:00, 20.09it/s, loss=1.79]\n"
          ]
        },
        {
          "output_type": "stream",
          "name": "stdout",
          "text": [
            "Train loss 0.027592433390021324 accuracy 0.323925\n"
          ]
        },
        {
          "output_type": "stream",
          "name": "stderr",
          "text": [
            "100%|██████████| 157/157 [00:04<00:00, 36.31it/s]\n"
          ]
        },
        {
          "output_type": "stream",
          "name": "stdout",
          "text": [
            "Val loss 0.028167283511161805 accuracy 0.3232\n",
            "\n",
            "Epoch 9/10\n",
            "----------\n"
          ]
        },
        {
          "output_type": "stream",
          "name": "stderr",
          "text": [
            "100%|██████████| 625/625 [00:26<00:00, 23.67it/s, loss=1.88]\n"
          ]
        },
        {
          "output_type": "stream",
          "name": "stdout",
          "text": [
            "Train loss 0.02761045490205288 accuracy 0.32755\n"
          ]
        },
        {
          "output_type": "stream",
          "name": "stderr",
          "text": [
            "100%|██████████| 157/157 [00:04<00:00, 36.15it/s]\n"
          ]
        },
        {
          "output_type": "stream",
          "name": "stdout",
          "text": [
            "Val loss 0.027500066542625427 accuracy 0.3283\n",
            "\n",
            "Epoch 10/10\n",
            "----------\n"
          ]
        },
        {
          "output_type": "stream",
          "name": "stderr",
          "text": [
            "100%|██████████| 625/625 [00:26<00:00, 23.61it/s, loss=1.6]\n"
          ]
        },
        {
          "output_type": "stream",
          "name": "stdout",
          "text": [
            "Train loss 0.027446081271767616 accuracy 0.3305\n"
          ]
        },
        {
          "output_type": "stream",
          "name": "stderr",
          "text": [
            "100%|██████████| 157/157 [00:06<00:00, 24.83it/s]"
          ]
        },
        {
          "output_type": "stream",
          "name": "stdout",
          "text": [
            "Val loss 0.027838377642631532 accuracy 0.3193\n",
            "\n"
          ]
        },
        {
          "output_type": "stream",
          "name": "stderr",
          "text": [
            "\n"
          ]
        }
      ]
    },
    {
      "cell_type": "code",
      "source": [
        "epoch=10\n",
        "#acc log for graph\n",
        "deep_acc_hist = []\n",
        "deep_acc_hist_val =[]\n",
        "for e in range(epoch):\n",
        "  print(f'Epoch {e + 1}/{epoch}')\n",
        "  print('-' * 10)\n",
        "  deeper_train_loss ,deeper_train_acc= DeeperModel.train_epoch(trainloader)\n",
        "  deep_acc_hist.append(deeper_train_acc)\n",
        "  print(f'Train loss {deeper_train_loss} accuracy {deeper_train_acc}')\n",
        "\n",
        "  deeper_val_loss, deeper_val_acc = DeeperModel.eval_model(validloader)\n",
        "  deep_acc_hist_val.append(deeper_val_acc)\n",
        "  print(f'Val loss {deeper_val_loss} accuracy {deeper_val_acc}')\n",
        "  print()"
      ],
      "metadata": {
        "colab": {
          "base_uri": "https://localhost:8080/"
        },
        "id": "S3Rm6GWthjEJ",
        "outputId": "6e565e0d-3a76-466c-d285-b175aa48e2e1"
      },
      "execution_count": null,
      "outputs": [
        {
          "output_type": "stream",
          "name": "stdout",
          "text": [
            "Epoch 1/10\n",
            "----------\n"
          ]
        },
        {
          "output_type": "stream",
          "name": "stderr",
          "text": [
            "100%|██████████| 625/625 [00:46<00:00, 13.49it/s, loss=1.82]\n"
          ]
        },
        {
          "output_type": "stream",
          "name": "stdout",
          "text": [
            "Train loss 0.02761704106628895 accuracy 0.369275\n"
          ]
        },
        {
          "output_type": "stream",
          "name": "stderr",
          "text": [
            "100%|██████████| 157/157 [00:05<00:00, 26.52it/s]\n"
          ]
        },
        {
          "output_type": "stream",
          "name": "stdout",
          "text": [
            "Val loss 0.021998998367786408 accuracy 0.4949\n",
            "\n",
            "Epoch 2/10\n",
            "----------\n"
          ]
        },
        {
          "output_type": "stream",
          "name": "stderr",
          "text": [
            "100%|██████████| 625/625 [00:48<00:00, 12.95it/s, loss=1.37]\n"
          ]
        },
        {
          "output_type": "stream",
          "name": "stdout",
          "text": [
            "Train loss 0.02269503333121538 accuracy 0.478275\n"
          ]
        },
        {
          "output_type": "stream",
          "name": "stderr",
          "text": [
            "100%|██████████| 157/157 [00:06<00:00, 24.87it/s]\n"
          ]
        },
        {
          "output_type": "stream",
          "name": "stdout",
          "text": [
            "Val loss 0.01899573192000389 accuracy 0.5614\n",
            "\n",
            "Epoch 3/10\n",
            "----------\n"
          ]
        },
        {
          "output_type": "stream",
          "name": "stderr",
          "text": [
            "100%|██████████| 625/625 [00:48<00:00, 12.94it/s, loss=1.3]\n"
          ]
        },
        {
          "output_type": "stream",
          "name": "stdout",
          "text": [
            "Train loss 0.020502244402468204 accuracy 0.5335\n"
          ]
        },
        {
          "output_type": "stream",
          "name": "stderr",
          "text": [
            "100%|██████████| 157/157 [00:07<00:00, 19.95it/s]\n"
          ]
        },
        {
          "output_type": "stream",
          "name": "stdout",
          "text": [
            "Val loss 0.016920807033777237 accuracy 0.6166\n",
            "\n",
            "Epoch 4/10\n",
            "----------\n"
          ]
        },
        {
          "output_type": "stream",
          "name": "stderr",
          "text": [
            "100%|██████████| 625/625 [00:49<00:00, 12.64it/s, loss=1.16]\n"
          ]
        },
        {
          "output_type": "stream",
          "name": "stdout",
          "text": [
            "Train loss 0.018596222630143166 accuracy 0.579375\n"
          ]
        },
        {
          "output_type": "stream",
          "name": "stderr",
          "text": [
            "100%|██████████| 157/157 [00:08<00:00, 19.37it/s]\n"
          ]
        },
        {
          "output_type": "stream",
          "name": "stdout",
          "text": [
            "Val loss 0.01615842876434326 accuracy 0.6287\n",
            "\n",
            "Epoch 5/10\n",
            "----------\n"
          ]
        },
        {
          "output_type": "stream",
          "name": "stderr",
          "text": [
            "100%|██████████| 625/625 [00:50<00:00, 12.39it/s, loss=1]\n"
          ]
        },
        {
          "output_type": "stream",
          "name": "stdout",
          "text": [
            "Train loss 0.01723764339387417 accuracy 0.615425\n"
          ]
        },
        {
          "output_type": "stream",
          "name": "stderr",
          "text": [
            "100%|██████████| 157/157 [00:08<00:00, 18.82it/s]\n"
          ]
        },
        {
          "output_type": "stream",
          "name": "stdout",
          "text": [
            "Val loss 0.01441739018559456 accuracy 0.6805\n",
            "\n",
            "Epoch 6/10\n",
            "----------\n"
          ]
        },
        {
          "output_type": "stream",
          "name": "stderr",
          "text": [
            "100%|██████████| 625/625 [00:49<00:00, 12.58it/s, loss=1.17]\n"
          ]
        },
        {
          "output_type": "stream",
          "name": "stdout",
          "text": [
            "Train loss 0.01629855780005455 accuracy 0.6375\n"
          ]
        },
        {
          "output_type": "stream",
          "name": "stderr",
          "text": [
            "100%|██████████| 157/157 [00:05<00:00, 26.27it/s]\n"
          ]
        },
        {
          "output_type": "stream",
          "name": "stdout",
          "text": [
            "Val loss 0.014214747279882431 accuracy 0.6813\n",
            "\n",
            "Epoch 7/10\n",
            "----------\n"
          ]
        },
        {
          "output_type": "stream",
          "name": "stderr",
          "text": [
            "100%|██████████| 625/625 [00:52<00:00, 11.97it/s, loss=0.87]\n"
          ]
        },
        {
          "output_type": "stream",
          "name": "stdout",
          "text": [
            "Train loss 0.015547259148955345 accuracy 0.65445\n"
          ]
        },
        {
          "output_type": "stream",
          "name": "stderr",
          "text": [
            "100%|██████████| 157/157 [00:06<00:00, 22.71it/s]\n"
          ]
        },
        {
          "output_type": "stream",
          "name": "stdout",
          "text": [
            "Val loss 0.01328824110031128 accuracy 0.7051\n",
            "\n",
            "Epoch 8/10\n",
            "----------\n"
          ]
        },
        {
          "output_type": "stream",
          "name": "stderr",
          "text": [
            "100%|██████████| 625/625 [00:47<00:00, 13.24it/s, loss=0.966]\n"
          ]
        },
        {
          "output_type": "stream",
          "name": "stdout",
          "text": [
            "Train loss 0.014848253993690014 accuracy 0.67175\n"
          ]
        },
        {
          "output_type": "stream",
          "name": "stderr",
          "text": [
            "100%|██████████| 157/157 [00:06<00:00, 24.92it/s]\n"
          ]
        },
        {
          "output_type": "stream",
          "name": "stdout",
          "text": [
            "Val loss 0.012666886341571808 accuracy 0.7187\n",
            "\n",
            "Epoch 9/10\n",
            "----------\n"
          ]
        },
        {
          "output_type": "stream",
          "name": "stderr",
          "text": [
            "100%|██████████| 625/625 [00:48<00:00, 12.91it/s, loss=0.973]\n"
          ]
        },
        {
          "output_type": "stream",
          "name": "stdout",
          "text": [
            "Train loss 0.014337702643871308 accuracy 0.6828\n"
          ]
        },
        {
          "output_type": "stream",
          "name": "stderr",
          "text": [
            "100%|██████████| 157/157 [00:05<00:00, 26.30it/s]\n"
          ]
        },
        {
          "output_type": "stream",
          "name": "stdout",
          "text": [
            "Val loss 0.012003486430644989 accuracy 0.7338\n",
            "\n",
            "Epoch 10/10\n",
            "----------\n"
          ]
        },
        {
          "output_type": "stream",
          "name": "stderr",
          "text": [
            "100%|██████████| 625/625 [00:50<00:00, 12.50it/s, loss=0.956]\n"
          ]
        },
        {
          "output_type": "stream",
          "name": "stdout",
          "text": [
            "Train loss 0.013869400681555271 accuracy 0.69545\n"
          ]
        },
        {
          "output_type": "stream",
          "name": "stderr",
          "text": [
            "100%|██████████| 157/157 [00:09<00:00, 16.78it/s]"
          ]
        },
        {
          "output_type": "stream",
          "name": "stdout",
          "text": [
            "Val loss 0.011508151215314864 accuracy 0.7484\n",
            "\n"
          ]
        },
        {
          "output_type": "stream",
          "name": "stderr",
          "text": [
            "\n"
          ]
        }
      ]
    },
    {
      "cell_type": "markdown",
      "metadata": {
        "id": "pkigxKp1Ev7O"
      },
      "source": [
        "## Test Results\n",
        "\n",
        "Let's see the testing result from both models"
      ]
    },
    {
      "cell_type": "code",
      "source": [
        "SimpleModel.test(testloader)"
      ],
      "metadata": {
        "colab": {
          "base_uri": "https://localhost:8080/",
          "height": 35
        },
        "id": "fW8-0-Cphsai",
        "outputId": "30ab1779-4d48-4aae-8fd9-3b53c2dbc3be"
      },
      "execution_count": null,
      "outputs": [
        {
          "output_type": "execute_result",
          "data": {
            "text/plain": [
              "'Accuracy on the test images: 33.43 %'"
            ],
            "application/vnd.google.colaboratory.intrinsic+json": {
              "type": "string"
            }
          },
          "metadata": {},
          "execution_count": 89
        }
      ]
    },
    {
      "cell_type": "code",
      "source": [
        "DeeperModel.test(testloader)"
      ],
      "metadata": {
        "colab": {
          "base_uri": "https://localhost:8080/",
          "height": 35
        },
        "id": "y-tQNefUhwIO",
        "outputId": "29a35291-0a26-40a5-b69d-419053850c27"
      },
      "execution_count": null,
      "outputs": [
        {
          "output_type": "execute_result",
          "data": {
            "text/plain": [
              "'Accuracy on the test images: 77.85 %'"
            ],
            "application/vnd.google.colaboratory.intrinsic+json": {
              "type": "string"
            }
          },
          "metadata": {},
          "execution_count": 92
        }
      ]
    },
    {
      "cell_type": "markdown",
      "source": [
        "# Model Comparison\n",
        "\n",
        "Let's compare the details and parameters of these two models"
      ],
      "metadata": {
        "id": "VyWEt77Stj7k"
      }
    },
    {
      "cell_type": "code",
      "source": [
        "# SimpleCNN\n",
        "summary(simplecnn,(3,32,32))"
      ],
      "metadata": {
        "colab": {
          "base_uri": "https://localhost:8080/"
        },
        "id": "16JBSTUKtoJC",
        "outputId": "0946cb0b-4949-4386-dae1-191da41f31f5"
      },
      "execution_count": null,
      "outputs": [
        {
          "output_type": "stream",
          "name": "stdout",
          "text": [
            "----------------------------------------------------------------\n",
            "        Layer (type)               Output Shape         Param #\n",
            "================================================================\n",
            "            Conv2d-1            [-1, 6, 28, 28]             456\n",
            "         MaxPool2d-2            [-1, 6, 14, 14]               0\n",
            "            Conv2d-3           [-1, 16, 10, 10]           2,416\n",
            "         MaxPool2d-4             [-1, 16, 5, 5]               0\n",
            "            Linear-5                  [-1, 120]          48,120\n",
            "            Linear-6                   [-1, 84]          10,164\n",
            "            Linear-7                   [-1, 10]             850\n",
            "================================================================\n",
            "Total params: 62,006\n",
            "Trainable params: 62,006\n",
            "Non-trainable params: 0\n",
            "----------------------------------------------------------------\n",
            "Input size (MB): 0.01\n",
            "Forward/backward pass size (MB): 0.06\n",
            "Params size (MB): 0.24\n",
            "Estimated Total Size (MB): 0.31\n",
            "----------------------------------------------------------------\n"
          ]
        }
      ]
    },
    {
      "cell_type": "code",
      "source": [
        "# DeeperCNN\n",
        "summary(deepercnn,(3,32,32))"
      ],
      "metadata": {
        "colab": {
          "base_uri": "https://localhost:8080/"
        },
        "id": "Y1vlQcdKuCJr",
        "outputId": "8bb707ef-a244-40d6-c64f-f0587fb9028f"
      },
      "execution_count": null,
      "outputs": [
        {
          "output_type": "stream",
          "name": "stdout",
          "text": [
            "----------------------------------------------------------------\n",
            "        Layer (type)               Output Shape         Param #\n",
            "================================================================\n",
            "            Conv2d-1          [-1, 128, 32, 32]           9,728\n",
            "       BatchNorm2d-2          [-1, 128, 32, 32]             256\n",
            "              ReLU-3          [-1, 128, 32, 32]               0\n",
            "            Conv2d-4          [-1, 128, 32, 32]         409,728\n",
            "       BatchNorm2d-5          [-1, 128, 32, 32]             256\n",
            "              ReLU-6          [-1, 128, 32, 32]               0\n",
            "         MaxPool2d-7          [-1, 128, 16, 16]               0\n",
            "         Dropout2d-8          [-1, 128, 16, 16]               0\n",
            "            Conv2d-9          [-1, 256, 16, 16]         295,168\n",
            "      BatchNorm2d-10          [-1, 256, 16, 16]             512\n",
            "             ReLU-11          [-1, 256, 16, 16]               0\n",
            "           Conv2d-12          [-1, 256, 16, 16]         590,080\n",
            "      BatchNorm2d-13          [-1, 256, 16, 16]             512\n",
            "             ReLU-14          [-1, 256, 16, 16]               0\n",
            "        MaxPool2d-15            [-1, 256, 8, 8]               0\n",
            "        Dropout2d-16            [-1, 256, 8, 8]               0\n",
            "           Linear-17                 [-1, 1024]      16,778,240\n",
            "      BatchNorm1d-18                 [-1, 1024]           2,048\n",
            "             ReLU-19                 [-1, 1024]               0\n",
            "          Dropout-20                 [-1, 1024]               0\n",
            "           Linear-21                  [-1, 512]         524,800\n",
            "      BatchNorm1d-22                  [-1, 512]           1,024\n",
            "             ReLU-23                  [-1, 512]               0\n",
            "          Dropout-24                  [-1, 512]               0\n",
            "           Linear-25                   [-1, 10]           5,130\n",
            "================================================================\n",
            "Total params: 18,617,482\n",
            "Trainable params: 18,617,482\n",
            "Non-trainable params: 0\n",
            "----------------------------------------------------------------\n",
            "Input size (MB): 0.01\n",
            "Forward/backward pass size (MB): 9.80\n",
            "Params size (MB): 71.02\n",
            "Estimated Total Size (MB): 80.83\n",
            "----------------------------------------------------------------\n"
          ]
        }
      ]
    },
    {
      "cell_type": "markdown",
      "metadata": {
        "id": "OC8zCt2__uOi"
      },
      "source": [
        "We now want to visualise our training :"
      ]
    },
    {
      "cell_type": "code",
      "metadata": {
        "id": "oaoHFQ4M_j_I",
        "colab": {
          "base_uri": "https://localhost:8080/",
          "height": 472
        },
        "outputId": "5c27d0be-6781-41da-faaa-ce7ed4db28e0"
      },
      "source": [
        "import matplotlib.pyplot as plt\n",
        "\n",
        "legend = ['Simple_Train', 'Simple_Validation', 'Deeper_Train', 'Deeper_Validation']\n",
        "plt.plot(simp_acc_hist)\n",
        "plt.plot(simp_acc_hist_val)\n",
        "plt.plot(deep_acc_hist)\n",
        "plt.plot(deep_acc_hist_val)\n",
        "plt.title('Training Accuracy')\n",
        "plt.xlabel('Epochs')\n",
        "plt.ylabel('Accuracy')\n",
        "plt.legend(legend, loc='upper left')\n",
        "plt.show()"
      ],
      "execution_count": null,
      "outputs": [
        {
          "output_type": "display_data",
          "data": {
            "text/plain": [
              "<Figure size 640x480 with 1 Axes>"
            ],
            "image/png": "[encoded data removed]"
          },
          "metadata": {}
        }
      ]
    },
    {
      "cell_type": "markdown",
      "metadata": {
        "id": "TVhJxi3hT_51"
      },
      "source": [
        "## Once you're done...\n",
        "Even though the accuracy increases and the loss decreases, our model is not very good. This is normal. Try to improve your accuracy! Things you can change:\n",
        "- Learning rate\n",
        "- Number of epochs of training\n",
        "- Batch size\n",
        "- Different transforms\n",
        "- Model structure (number of layers, convolutional layer properties, new layer types like Dropout)\n",
        "\n",
        "Ultimately, it takes a lot of experimentation and gut feel to go from a basic training loop to an optimised model. There are tools to optimise these hyperparameters, but its always useful to be able to know a good place to start. As with most things, practice makes perfect."
      ]
    }
  ]
}